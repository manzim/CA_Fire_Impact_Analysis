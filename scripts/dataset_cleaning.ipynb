{
 "cells": [
  {
   "cell_type": "markdown",
   "metadata": {},
   "source": [
    "# import dataset function"
   ]
  },
  {
   "cell_type": "code",
   "execution_count": 1,
   "metadata": {},
   "outputs": [
    {
     "name": "stderr",
     "output_type": "stream",
     "text": [
      "e:\\githubProjects\\Ahmed_Manzim_Ridwan_APF_Project_WiSe_2024_25\\scripts\\dataset_loader_function.py:7: DtypeWarning: Columns (12,36,37) have mixed types. Specify dtype option on import or set low_memory=False.\n",
      "  return pd.read_csv('../dataset/POSTFIRE_MASTER_DATA_SHARE_2064760709534146017.csv')  # Correct\n"
     ]
    }
   ],
   "source": [
    "from dataset_loader_function import load_dataset\n",
    "\n",
    "# Load dataset\n",
    "df = load_dataset()\n",
    "# Display basic info\n",
    "# df.info()\n",
    "# df.head(1)\n"
   ]
  },
  {
   "cell_type": "markdown",
   "metadata": {},
   "source": [
    "## Giving a meaningful column name"
   ]
  },
  {
   "cell_type": "code",
   "execution_count": 49,
   "metadata": {},
   "outputs": [
    {
     "data": {
      "text/plain": [
       "Index(['object_id', 'damage', 'street_number', 'street_name', 'street_type',\n",
       "       'street_suffix', 'city', 'state', 'zip_code', 'cal_fire_unit', 'county',\n",
       "       'community', 'battalion', 'incident_name', 'incident_number',\n",
       "       'incident_start_date', 'hazard_type', 'fire_start_location',\n",
       "       'fire_cause', 'defense_actions', 'structure_type', 'structure_category',\n",
       "       'units_in_structure', 'damaged_outbuildings',\n",
       "       'non_damaged_outbuildings', 'roof_construction', 'eaves', 'vent_screen',\n",
       "       'exterior_siding', 'window_pane', 'deck_porch_grade',\n",
       "       'deck_porch_elevated', 'patio_cover_carport', 'fence_attached',\n",
       "       'distance_propane_tank', 'distance_residence_utility',\n",
       "       'fire_name_secondary', 'apn', 'assessed_value', 'year_built',\n",
       "       'site_address', 'global_id', 'latitude', 'longitude', 'x_coordinate',\n",
       "       'y_coordinate'],\n",
       "      dtype='object')"
      ]
     },
     "execution_count": 49,
     "metadata": {},
     "output_type": "execute_result"
    }
   ],
   "source": [
    "# Dictionary for renaming columns\n",
    "column_rename_dict = {\n",
    "    'OBJECTID': 'Object_ID',\n",
    "    '* Damage': 'Damage',\n",
    "    '* Street Number': 'Street_Number',\n",
    "    '* Street Name': 'Street_Name',\n",
    "    '* Street Type (e.g. road, drive, lane, etc.)': 'Street_Type',\n",
    "    'Street Suffix (e.g. apt. 23, blding C)': 'Street_Suffix',\n",
    "    '* City': 'City',\n",
    "    'State': 'State',\n",
    "    'Zip Code': 'Zip_Code',\n",
    "    '* CAL FIRE Unit': 'CAL_FIRE_Unit',\n",
    "    'County': 'County',\n",
    "    'Community': 'Community',\n",
    "    'Battalion': 'Battalion',\n",
    "    '* Incident Name': 'Incident_Name',\n",
    "    'Incident Number (e.g. CAAEU 123456)': 'Incident_Number',\n",
    "    'Incident Start Date': 'Incident_Start_Date',\n",
    "    'Hazard Type': 'Hazard_Type',\n",
    "    'If Affected 1-9% - Where did fire start?': 'Fire_Start_Location',\n",
    "    'If Affected 1-9% - What started fire?': 'Fire_Cause',\n",
    "    'Structure Defense Actions Taken': 'Defense_Actions',\n",
    "    '* Structure Type': 'Structure_Type',\n",
    "    'Structure Category': 'Structure_Category',\n",
    "    '# Units in Structure (if multi unit)': 'Units_in_Structure',\n",
    "    '# of Damaged Outbuildings < 120 SQFT': 'Damaged_Outbuildings',\n",
    "    '# of Non Damaged Outbuildings < 120 SQFT': 'Non_Damaged_Outbuildings',\n",
    "    '* Roof Construction': 'Roof_Construction',\n",
    "    '* Eaves': 'Eaves',\n",
    "    '* Vent Screen': 'Vent_Screen',\n",
    "    '* Exterior Siding': 'Exterior_Siding',\n",
    "    '* Window Pane': 'Window_Pane',\n",
    "    '* Deck/Porch On Grade': 'Deck_Porch_Grade',\n",
    "    '* Deck/Porch Elevated': 'Deck_Porch_Elevated',\n",
    "    '* Patio Cover/Carport Attached to Structure': 'Patio_Cover_Carport',\n",
    "    '* Fence Attached to Structure': 'Fence_Attached',\n",
    "    'Distance - Propane Tank to Structure': 'Distance_Propane_Tank',\n",
    "    'Distance - Residence to Utility/Misc Structure &gt; 120 SQFT': 'Distance_Residence_Utility',\n",
    "    'Fire Name (Secondary)': 'Fire_Name_Secondary',\n",
    "    'APN (parcel)': 'APN',\n",
    "    'Assessed Improved Value (parcel)': 'Assessed_Value',\n",
    "    'Year Built (parcel)': 'Year_Built',\n",
    "    'Site Address (parcel)': 'Site_Address',\n",
    "    'GLOBALID': 'Global_ID',\n",
    "    'Latitude': 'Latitude',\n",
    "    'Longitude': 'Longitude',\n",
    "    'x': 'X_Coordinate',\n",
    "    'y': 'Y_Coordinate'\n",
    "}\n",
    "\n",
    "df.rename(columns=column_rename_dict, inplace=True)\n",
    "\n",
    "df.columns = df.columns.str.lower()\n",
    "column_names = df.columns\n",
    "column_names "
   ]
  },
  {
   "cell_type": "markdown",
   "metadata": {},
   "source": [
    "## Handle NaN/missing values"
   ]
  },
  {
   "cell_type": "code",
   "execution_count": 19,
   "metadata": {},
   "outputs": [
    {
     "data": {
      "text/plain": [
       "* Street Number                                                   4420\n",
       "* Street Name                                                     5486\n",
       "* Street Type (e.g. road, drive, lane, etc.)                     14463\n",
       "Street Suffix (e.g. apt. 23, blding C)                           68706\n",
       "* City                                                           31803\n",
       "State                                                                7\n",
       "Zip Code                                                         52835\n",
       "County                                                              30\n",
       "Community                                                        75986\n",
       "Battalion                                                       124127\n",
       "If Affected 1-9% - Where did fire start?                        118349\n",
       "If Affected 1-9% - What started fire?                           120073\n",
       "Structure Defense Actions Taken                                  94999\n",
       "# Units in Structure (if multi unit)                             91815\n",
       "# of Damaged Outbuildings < 120 SQFT                             89812\n",
       "# of Non Damaged Outbuildings < 120 SQFT                         89804\n",
       "* Roof Construction                                                628\n",
       "* Eaves                                                           1112\n",
       "* Vent Screen                                                     1198\n",
       "* Exterior Siding                                                  909\n",
       "* Window Pane                                                      976\n",
       "* Patio Cover/Carport Attached to Structure                          1\n",
       "* Fence Attached to Structure                                    21595\n",
       "Distance - Propane Tank to Structure                            106982\n",
       "Distance - Residence to Utility/Misc Structure &gt; 120 SQFT    111929\n",
       "Fire Name (Secondary)                                           109552\n",
       "APN (parcel)                                                       668\n",
       "Assessed Improved Value (parcel)                                  6894\n",
       "Year Built (parcel)                                              31466\n",
       "Site Address (parcel)                                             5114\n",
       "dtype: int64"
      ]
     },
     "execution_count": 19,
     "metadata": {},
     "output_type": "execute_result"
    }
   ],
   "source": [
    "# Count missing values per column\n",
    "missing_values = df.isnull().sum()\n",
    "missing_values[missing_values > 0]  # Show only columns with missing data\n"
   ]
  },
  {
   "cell_type": "code",
   "execution_count": null,
   "metadata": {},
   "outputs": [
    {
     "data": {
      "text/plain": [
       "np.int64(0)"
      ]
     },
     "execution_count": 21,
     "metadata": {},
     "output_type": "execute_result"
    }
   ],
   "source": [
    "# Find and remove duplicate rows\n",
    "# duplicates = df.duplicated().sum()\n",
    "# duplicates\n"
   ]
  },
  {
   "cell_type": "markdown",
   "metadata": {},
   "source": [
    "## Fix dates formats into consistent"
   ]
  },
  {
   "cell_type": "code",
   "execution_count": 60,
   "metadata": {},
   "outputs": [
    {
     "data": {
      "text/plain": [
       "incident_start_date    datetime64[ns]\n",
       "year_built             datetime64[ns]\n",
       "dtype: object"
      ]
     },
     "execution_count": 60,
     "metadata": {},
     "output_type": "execute_result"
    }
   ],
   "source": [
    "# Standardize date formats\n",
    "date_columns = [\"incident_start_date\", \"year_built\"]\n",
    "\n",
    "for col in date_columns:\n",
    "    df[col] = pd.to_datetime(df[col], errors='coerce')  # Convert to datetime format\n",
    "\n",
    "# (df[date_columns].info())\n",
    "df[date_columns].dtypes"
   ]
  },
  {
   "cell_type": "markdown",
   "metadata": {},
   "source": [
    "## Save the cleaned dataset to a new csv"
   ]
  },
  {
   "cell_type": "code",
   "execution_count": 66,
   "metadata": {},
   "outputs": [],
   "source": [
    "df.to_csv(\"../dataset/dataset_cleaned.csv\", index=False)"
   ]
  }
 ],
 "metadata": {
  "kernelspec": {
   "display_name": "Python 3",
   "language": "python",
   "name": "python3"
  },
  "language_info": {
   "codemirror_mode": {
    "name": "ipython",
    "version": 3
   },
   "file_extension": ".py",
   "mimetype": "text/x-python",
   "name": "python",
   "nbconvert_exporter": "python",
   "pygments_lexer": "ipython3",
   "version": "3.13.0"
  }
 },
 "nbformat": 4,
 "nbformat_minor": 2
}
