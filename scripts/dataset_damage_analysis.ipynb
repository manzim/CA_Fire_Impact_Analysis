{
 "cells": [
  {
   "cell_type": "markdown",
   "metadata": {},
   "source": [
    "## Analysis of Damage Details"
   ]
  },
  {
   "cell_type": "markdown",
   "metadata": {},
   "source": [
    "### Importing necessary function and libraries "
   ]
  },
  {
   "cell_type": "code",
   "execution_count": 1,
   "metadata": {},
   "outputs": [],
   "source": [
    "from dataset_loader_function import load_cleaned_dataset\n",
    "\n",
    "import numpy as np\n",
    "import pandas as pd\n",
    "import matplotlib.pyplot as plt\n",
    "import seaborn as sns"
   ]
  },
  {
   "cell_type": "code",
   "execution_count": 7,
   "metadata": {},
   "outputs": [
    {
     "name": "stderr",
     "output_type": "stream",
     "text": [
      "e:\\githubProjects\\Ahmed_Manzim_Ridwan_APF_Project_WiSe_2024_25\\scripts\\dataset_loader_function.py:7: DtypeWarning: Columns (12,36,37) have mixed types. Specify dtype option on import or set low_memory=False.\n",
      "  return pd.read_csv('../dataset/dataset_cleaned.csv')\n"
     ]
    },
    {
     "data": {
      "text/plain": [
       "Index(['apn', 'assessed_value', 'battalion', 'cal_fire_unit', 'city',\n",
       "       'community', 'county', 'damage', 'damaged_outbuildings',\n",
       "       'deck_porch_elevated', 'deck_porch_grade', 'defense_actions',\n",
       "       'distance_propane_tank', 'distance_residence_utility', 'eaves',\n",
       "       'exterior_siding', 'fence_attached', 'fire_cause',\n",
       "       'fire_name_secondary', 'fire_start_location', 'global_id',\n",
       "       'hazard_type', 'incident_name', 'incident_number',\n",
       "       'incident_start_date', 'latitude', 'longitude',\n",
       "       'non_damaged_outbuildings', 'object_id', 'patio_cover_carport',\n",
       "       'roof_construction', 'site_address', 'state', 'street_name',\n",
       "       'street_number', 'street_suffix', 'street_type', 'structure_category',\n",
       "       'structure_type', 'units_in_structure', 'vent_screen', 'window_pane',\n",
       "       'x_coordinate', 'y_coordinate', 'year_built', 'zip_code'],\n",
       "      dtype='object')"
      ]
     },
     "execution_count": 7,
     "metadata": {},
     "output_type": "execute_result"
    }
   ],
   "source": [
    "df = load_cleaned_dataset()\n",
    "df.columns.sort_values()"
   ]
  },
  {
   "cell_type": "markdown",
   "metadata": {},
   "source": [
    "#### Check unique values of damage type and ensure NaN count"
   ]
  },
  {
   "cell_type": "code",
   "execution_count": 32,
   "metadata": {},
   "outputs": [
    {
     "data": {
      "text/plain": [
       "(130723, 2)"
      ]
     },
     "execution_count": 32,
     "metadata": {},
     "output_type": "execute_result"
    }
   ],
   "source": [
    "df_structure_type = np.sort(df[\"structure_type\"].unique())\n",
    "# df_structure_type\n",
    "df_damage_type = df[\"damage\"].unique()\n",
    "# df_damage_type\n",
    "\n",
    "df[[\"structure_type\", \"damage\"]].dropna().shape"
   ]
  },
  {
   "cell_type": "markdown",
   "metadata": {},
   "source": [
    "#### fix typo and inconsistency in naming"
   ]
  },
  {
   "cell_type": "code",
   "execution_count": 34,
   "metadata": {},
   "outputs": [
    {
     "data": {
      "text/plain": [
       "structure_type\n",
       "Single Family Residence Single Story             46794\n",
       "Utility or Miscellaneous Structure > 120 sqft    35279\n",
       "Single Family Residence Multi Story              28169\n",
       "Mobile Home Double Wide                           6080\n",
       "Commercial Building Single Story                  3831\n",
       "Mobile Home Single Wide                           3218\n",
       "Motor Home                                        1814\n",
       "Multi Family Residence Multi Story                1377\n",
       "Infrastructure                                     920\n",
       "Multi Family Residence Single Story                882\n",
       "Commercial Building Multi Story                    671\n",
       "School                                             613\n",
       "Mobile Home Triple Wide                            518\n",
       "Mixed Commercial/Residential                       395\n",
       "Church                                             130\n",
       "Hospital                                            25\n",
       "Agriculture                                          7\n",
       "Name: count, dtype: int64"
      ]
     },
     "execution_count": 34,
     "metadata": {},
     "output_type": "execute_result"
    }
   ],
   "source": [
    "# fix family spelling error\n",
    "df[\"structure_type\"] = df[\"structure_type\"].replace({\n",
    "    \"Single Famliy Residence Single Story\": \"Single Family Residence Single Story\",\n",
    "    \"Utility Misc Structure\": \"Utility or Miscellaneous Structure > 120 sqft\"\n",
    "})\n",
    "\n",
    "df[\"structure_type\"].unique().sort() \n",
    "df[\"structure_type\"].value_counts()"
   ]
  }
 ],
 "metadata": {
  "kernelspec": {
   "display_name": "Python 3",
   "language": "python",
   "name": "python3"
  },
  "language_info": {
   "codemirror_mode": {
    "name": "ipython",
    "version": 3
   },
   "file_extension": ".py",
   "mimetype": "text/x-python",
   "name": "python",
   "nbconvert_exporter": "python",
   "pygments_lexer": "ipython3",
   "version": "3.13.0"
  }
 },
 "nbformat": 4,
 "nbformat_minor": 2
}
